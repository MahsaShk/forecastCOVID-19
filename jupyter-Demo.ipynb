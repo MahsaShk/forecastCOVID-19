{
 "cells": [
  {
   "cell_type": "code",
   "execution_count": 1,
   "metadata": {},
   "outputs": [],
   "source": [
    "from inputData import Data \n",
    "from forecaster import forecaster\n",
    "import pandas as pd"
   ]
  },
  {
   "cell_type": "markdown",
   "metadata": {},
   "source": [
    "## Reading training and test files into Data class"
   ]
  },
  {
   "cell_type": "code",
   "execution_count": 2,
   "metadata": {},
   "outputs": [],
   "source": [
    "# Define input paths\n",
    "trainpath = 'covid19-global-forecasting-week-3/train.csv'\n",
    "testpath = 'covid19-global-forecasting-week-3/test.csv'"
   ]
  },
  {
   "cell_type": "code",
   "execution_count": 3,
   "metadata": {},
   "outputs": [
    {
     "name": "stdout",
     "output_type": "stream",
     "text": [
      "---Loading CSV files finished.\n"
     ]
    }
   ],
   "source": [
    "# Read data\n",
    "data = Data()\n",
    "data.read_data(trainpath, testpath)"
   ]
  },
  {
   "cell_type": "markdown",
   "metadata": {},
   "source": [
    "## Run profile reporting on training and test sets\n",
    "\n",
    "\n"
   ]
  },
  {
   "cell_type": "code",
   "execution_count": 4,
   "metadata": {},
   "outputs": [
    {
     "name": "stdout",
     "output_type": "stream",
     "text": [
      "----------------------------------------\n",
      "Listing the first two lines of training set:\n",
      "\n",
      "   Id Province_State Country_Region        Date  ConfirmedCases  Fatalities\n",
      "0   1            NaN    Afghanistan  2020-01-22             0.0         0.0\n",
      "1   2            NaN    Afghanistan  2020-01-23             0.0         0.0\n",
      "\n",
      "\n",
      "----------------------------------------\n",
      "Start profile reporting using pandas_profiling package:\n",
      "\n"
     ]
    },
    {
     "data": {
      "application/vnd.jupyter.widget-view+json": {
       "model_id": "c0298656a8fe4c3d9a8560f9156f5b43",
       "version_major": 2,
       "version_minor": 0
      },
      "text/plain": [
       "HBox(children=(FloatProgress(value=0.0, description='Summarize dataset', max=20.0, style=ProgressStyle(descrip…"
      ]
     },
     "metadata": {},
     "output_type": "display_data"
    },
    {
     "name": "stdout",
     "output_type": "stream",
     "text": [
      "\n"
     ]
    },
    {
     "data": {
      "application/vnd.jupyter.widget-view+json": {
       "model_id": "63bdc93c20d040a5b02f3586c646e0e5",
       "version_major": 2,
       "version_minor": 0
      },
      "text/plain": [
       "HBox(children=(FloatProgress(value=0.0, description='Generate report structure', max=1.0, style=ProgressStyle(…"
      ]
     },
     "metadata": {},
     "output_type": "display_data"
    },
    {
     "name": "stdout",
     "output_type": "stream",
     "text": [
      "\n"
     ]
    },
    {
     "data": {
      "application/vnd.jupyter.widget-view+json": {
       "model_id": "effc43ce96914d49ade1459bd68f3918",
       "version_major": 2,
       "version_minor": 0
      },
      "text/plain": [
       "HBox(children=(FloatProgress(value=0.0, description='Render HTML', max=1.0, style=ProgressStyle(description_wi…"
      ]
     },
     "metadata": {},
     "output_type": "display_data"
    },
    {
     "name": "stdout",
     "output_type": "stream",
     "text": [
      "\n"
     ]
    },
    {
     "data": {
      "application/vnd.jupyter.widget-view+json": {
       "model_id": "dd5c8a6a1dc44616b9c2ef28a6ab2861",
       "version_major": 2,
       "version_minor": 0
      },
      "text/plain": [
       "HBox(children=(FloatProgress(value=0.0, description='Export report to file', max=1.0, style=ProgressStyle(desc…"
      ]
     },
     "metadata": {},
     "output_type": "display_data"
    },
    {
     "name": "stdout",
     "output_type": "stream",
     "text": [
      "\n"
     ]
    },
    {
     "data": {
      "application/vnd.jupyter.widget-view+json": {
       "model_id": "2a0dc33d9d4046868c96266dc6e28161",
       "version_major": 2,
       "version_minor": 0
      },
      "text/plain": [
       "HBox(children=(FloatProgress(value=0.0, description='Summarize dataset', max=18.0, style=ProgressStyle(descrip…"
      ]
     },
     "metadata": {},
     "output_type": "display_data"
    },
    {
     "name": "stdout",
     "output_type": "stream",
     "text": [
      "\n"
     ]
    },
    {
     "data": {
      "application/vnd.jupyter.widget-view+json": {
       "model_id": "ab2051e1031d49b6a8a28613e62f683c",
       "version_major": 2,
       "version_minor": 0
      },
      "text/plain": [
       "HBox(children=(FloatProgress(value=0.0, description='Generate report structure', max=1.0, style=ProgressStyle(…"
      ]
     },
     "metadata": {},
     "output_type": "display_data"
    },
    {
     "name": "stdout",
     "output_type": "stream",
     "text": [
      "\n"
     ]
    },
    {
     "data": {
      "application/vnd.jupyter.widget-view+json": {
       "model_id": "45c2d5344b0e4034819d825c0d85824c",
       "version_major": 2,
       "version_minor": 0
      },
      "text/plain": [
       "HBox(children=(FloatProgress(value=0.0, description='Render HTML', max=1.0, style=ProgressStyle(description_wi…"
      ]
     },
     "metadata": {},
     "output_type": "display_data"
    },
    {
     "name": "stdout",
     "output_type": "stream",
     "text": [
      "\n"
     ]
    },
    {
     "data": {
      "application/vnd.jupyter.widget-view+json": {
       "model_id": "1c608c46396042c2a3bf841942dd02b7",
       "version_major": 2,
       "version_minor": 0
      },
      "text/plain": [
       "HBox(children=(FloatProgress(value=0.0, description='Export report to file', max=1.0, style=ProgressStyle(desc…"
      ]
     },
     "metadata": {},
     "output_type": "display_data"
    },
    {
     "name": "stdout",
     "output_type": "stream",
     "text": [
      "\n",
      "Check the complete profiling report in train_profileReport.html and test_profileReport.html\n",
      "----------------------------------------\n",
      "\n",
      "\n",
      "---Profiling train and test set finished.\n"
     ]
    }
   ],
   "source": [
    " \n",
    "data.profileReport()"
   ]
  },
  {
   "cell_type": "markdown",
   "metadata": {},
   "source": [
    "## Apply preprocessing\n",
    "Preprocessing includes handling missing values, convert Date column variable, ..."
   ]
  },
  {
   "cell_type": "code",
   "execution_count": 5,
   "metadata": {},
   "outputs": [
    {
     "name": "stdout",
     "output_type": "stream",
     "text": [
      "---Preprocessing on train and test set finished.\n"
     ]
    }
   ],
   "source": [
    "data.preprocess()"
   ]
  },
  {
   "cell_type": "markdown",
   "metadata": {},
   "source": [
    "## Prediction initialization\n",
    "Includes creating a forcaster and then selecting a prediction strategy from predictor class. Inaddition, setting hyperparameters can be done here."
   ]
  },
  {
   "cell_type": "code",
   "execution_count": 6,
   "metadata": {},
   "outputs": [],
   "source": [
    "f = forecaster(data)\n",
    "f.predName = 'xgb'"
   ]
  },
  {
   "cell_type": "markdown",
   "metadata": {},
   "source": [
    "## Run prediction on each province-country geographical location"
   ]
  },
  {
   "cell_type": "code",
   "execution_count": 7,
   "metadata": {},
   "outputs": [
    {
     "name": "stdout",
     "output_type": "stream",
     "text": [
      "---predicting Confirmed Cases done\n",
      "---predicting Fatalities done\n",
      "---predicting Confirmed Cases done\n",
      "---predicting Fatalities done\n",
      "---predicting Confirmed Cases done\n",
      "---predicting Fatalities done\n"
     ]
    }
   ],
   "source": [
    "f.forecast()"
   ]
  },
  {
   "cell_type": "markdown",
   "metadata": {},
   "source": [
    "## Example output for 'Washington'-'US' geographical location:"
   ]
  },
  {
   "cell_type": "code",
   "execution_count": 8,
   "metadata": {},
   "outputs": [
    {
     "name": "stdout",
     "output_type": "stream",
     "text": [
      "      ConfirmedCases Fatalities\n",
      "12126           3207    150.003\n",
      "12127           3477    156.997\n",
      "12128           4030    188.002\n",
      "12129           4465    197.998\n",
      "12130           4923    205.003\n",
      "12131           5432    224.997\n",
      "12132           5608    234.002\n",
      "12133           6389    270.999\n",
      "12134           6846    291.001\n",
      "12135           7247    314.998\n",
      "12136           7825    336.002\n",
      "12137           8311        381\n",
      "12138           8692    399.999\n",
      "12139           8692    399.999\n",
      "12140           8692    399.999\n",
      "12141           8692    399.999\n",
      "12142           8692    399.999\n",
      "12143           8692    399.999\n",
      "12144           8692    399.999\n",
      "12145           8692    399.999\n",
      "12146           8692    399.999\n",
      "12147           8692    399.999\n",
      "12148           8692    399.999\n",
      "12149           8692    399.999\n",
      "12150           8692    399.999\n",
      "12151           8692    399.999\n",
      "12152           8692    399.999\n",
      "12153           8692    399.999\n",
      "12154           8692    399.999\n",
      "12155           8692    399.999\n",
      "12156           8692    399.999\n",
      "12157           8692    399.999\n",
      "12158           8692    399.999\n",
      "12159           8692    399.999\n",
      "12160           8692    399.999\n",
      "12161           8692    399.999\n",
      "12162           8692    399.999\n",
      "12163           8692    399.999\n",
      "12164           8692    399.999\n",
      "12165           8692    399.999\n",
      "12166           8692    399.999\n",
      "12167           8692    399.999\n",
      "12168           8692    399.999\n"
     ]
    }
   ],
   "source": [
    "name = ('Washington', 'US') \n",
    "filt = (data.test['Province_State']==name[0]) & (data.test['Country_Region']==name[1])\n",
    "print(data.test.loc[filt,['ConfirmedCases','Fatalities']])"
   ]
  },
  {
   "cell_type": "code",
   "execution_count": null,
   "metadata": {},
   "outputs": [],
   "source": []
  }
 ],
 "metadata": {
  "kernelspec": {
   "display_name": "Python 3",
   "language": "python",
   "name": "python3"
  },
  "language_info": {
   "codemirror_mode": {
    "name": "ipython",
    "version": 3
   },
   "file_extension": ".py",
   "mimetype": "text/x-python",
   "name": "python",
   "nbconvert_exporter": "python",
   "pygments_lexer": "ipython3",
   "version": "3.6.9"
  }
 },
 "nbformat": 4,
 "nbformat_minor": 4
}
