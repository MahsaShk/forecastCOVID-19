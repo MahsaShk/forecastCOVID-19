{
 "cells": [
  {
   "cell_type": "code",
   "execution_count": 1,
   "metadata": {},
   "outputs": [],
   "source": [
    "from inputData import Data \n",
    "from forecaster import forecaster\n",
    "import pandas as pd"
   ]
  },
  {
   "cell_type": "markdown",
   "metadata": {},
   "source": [
    "## Reading training and test files into Data class"
   ]
  },
  {
   "cell_type": "code",
   "execution_count": 2,
   "metadata": {},
   "outputs": [],
   "source": [
    "# Define input paths\n",
    "trainpath = 'covid19-global-forecasting-week-3/train.csv'\n",
    "testpath = 'covid19-global-forecasting-week-3/test.csv'"
   ]
  },
  {
   "cell_type": "code",
   "execution_count": 3,
   "metadata": {},
   "outputs": [
    {
     "name": "stdout",
     "output_type": "stream",
     "text": [
      "---Loading CSV files finished.\n"
     ]
    }
   ],
   "source": [
    "# Read data\n",
    "data = Data()\n",
    "data.read_data(trainpath, testpath)"
   ]
  },
  {
   "cell_type": "markdown",
   "metadata": {},
   "source": [
    "## Run profile reporting on training and test sets\n",
    "\n",
    "\n"
   ]
  },
  {
   "cell_type": "code",
   "execution_count": 4,
   "metadata": {},
   "outputs": [
    {
     "data": {
      "application/vnd.jupyter.widget-view+json": {
       "model_id": "915866392f8f433783e230ac9a92307a",
       "version_major": 2,
       "version_minor": 0
      },
      "text/plain": [
       "HBox(children=(FloatProgress(value=0.0, description='Summarize dataset', max=20.0, style=ProgressStyle(descrip…"
      ]
     },
     "metadata": {},
     "output_type": "display_data"
    },
    {
     "name": "stdout",
     "output_type": "stream",
     "text": [
      "\n"
     ]
    },
    {
     "data": {
      "application/vnd.jupyter.widget-view+json": {
       "model_id": "b3cddc7102f041d893fbf04ce56deb8b",
       "version_major": 2,
       "version_minor": 0
      },
      "text/plain": [
       "HBox(children=(FloatProgress(value=0.0, description='Generate report structure', max=1.0, style=ProgressStyle(…"
      ]
     },
     "metadata": {},
     "output_type": "display_data"
    },
    {
     "name": "stdout",
     "output_type": "stream",
     "text": [
      "\n"
     ]
    },
    {
     "data": {
      "application/vnd.jupyter.widget-view+json": {
       "model_id": "53a494683f5243e38779ac3514192c75",
       "version_major": 2,
       "version_minor": 0
      },
      "text/plain": [
       "HBox(children=(FloatProgress(value=0.0, description='Render HTML', max=1.0, style=ProgressStyle(description_wi…"
      ]
     },
     "metadata": {},
     "output_type": "display_data"
    },
    {
     "name": "stdout",
     "output_type": "stream",
     "text": [
      "\n"
     ]
    },
    {
     "data": {
      "application/vnd.jupyter.widget-view+json": {
       "model_id": "973199adec14435fa2888315fadd1297",
       "version_major": 2,
       "version_minor": 0
      },
      "text/plain": [
       "HBox(children=(FloatProgress(value=0.0, description='Export report to file', max=1.0, style=ProgressStyle(desc…"
      ]
     },
     "metadata": {},
     "output_type": "display_data"
    },
    {
     "name": "stdout",
     "output_type": "stream",
     "text": [
      "\n"
     ]
    },
    {
     "data": {
      "application/vnd.jupyter.widget-view+json": {
       "model_id": "9e0f5d81fd8445689fc3ef208649584a",
       "version_major": 2,
       "version_minor": 0
      },
      "text/plain": [
       "HBox(children=(FloatProgress(value=0.0, description='Summarize dataset', max=18.0, style=ProgressStyle(descrip…"
      ]
     },
     "metadata": {},
     "output_type": "display_data"
    },
    {
     "name": "stdout",
     "output_type": "stream",
     "text": [
      "\n"
     ]
    },
    {
     "data": {
      "application/vnd.jupyter.widget-view+json": {
       "model_id": "68ab8f35349b4d02babdfd26ca90071e",
       "version_major": 2,
       "version_minor": 0
      },
      "text/plain": [
       "HBox(children=(FloatProgress(value=0.0, description='Generate report structure', max=1.0, style=ProgressStyle(…"
      ]
     },
     "metadata": {},
     "output_type": "display_data"
    },
    {
     "name": "stdout",
     "output_type": "stream",
     "text": [
      "\n"
     ]
    },
    {
     "data": {
      "application/vnd.jupyter.widget-view+json": {
       "model_id": "95aadbad70414d7eb3155c63527c2104",
       "version_major": 2,
       "version_minor": 0
      },
      "text/plain": [
       "HBox(children=(FloatProgress(value=0.0, description='Render HTML', max=1.0, style=ProgressStyle(description_wi…"
      ]
     },
     "metadata": {},
     "output_type": "display_data"
    },
    {
     "name": "stdout",
     "output_type": "stream",
     "text": [
      "\n"
     ]
    },
    {
     "data": {
      "application/vnd.jupyter.widget-view+json": {
       "model_id": "4c2f591e871d4666ad8e934446bd097a",
       "version_major": 2,
       "version_minor": 0
      },
      "text/plain": [
       "HBox(children=(FloatProgress(value=0.0, description='Export report to file', max=1.0, style=ProgressStyle(desc…"
      ]
     },
     "metadata": {},
     "output_type": "display_data"
    },
    {
     "name": "stdout",
     "output_type": "stream",
     "text": [
      "\n",
      "---Profiling train and test set finished.\n"
     ]
    }
   ],
   "source": [
    " \n",
    "data.profileReport()"
   ]
  },
  {
   "cell_type": "markdown",
   "metadata": {},
   "source": [
    "## Apply preprocessing\n",
    "Preprocessing includes handling missing values, convert Date column variable, ..."
   ]
  },
  {
   "cell_type": "code",
   "execution_count": 5,
   "metadata": {},
   "outputs": [
    {
     "name": "stdout",
     "output_type": "stream",
     "text": [
      "---Preprocessing on train and test set finished.\n"
     ]
    }
   ],
   "source": [
    "data.preprocess()"
   ]
  },
  {
   "cell_type": "markdown",
   "metadata": {},
   "source": [
    "## Prediction initialization\n",
    "Includes creating a forcaster and then selecting a prediction strategy from predictor class. Inaddition, setting hyperparameters can be done here."
   ]
  },
  {
   "cell_type": "code",
   "execution_count": 6,
   "metadata": {},
   "outputs": [],
   "source": [
    "f = forecaster(data)\n",
    "f.predName = 'xgb'"
   ]
  },
  {
   "cell_type": "markdown",
   "metadata": {},
   "source": [
    "## Run prediction on each province-country geographical location"
   ]
  },
  {
   "cell_type": "code",
   "execution_count": 7,
   "metadata": {},
   "outputs": [
    {
     "name": "stdout",
     "output_type": "stream",
     "text": [
      "---predicting Confirmed Cases done\n",
      "---predicting Fatalities done\n",
      "---predicting Confirmed Cases done\n",
      "---predicting Fatalities done\n",
      "---predicting Confirmed Cases done\n",
      "---predicting Fatalities done\n"
     ]
    }
   ],
   "source": [
    "f.forecast()"
   ]
  },
  {
   "cell_type": "markdown",
   "metadata": {},
   "source": [
    "## Example output for 'Washington'-'US' geographical location:"
   ]
  },
  {
   "cell_type": "code",
   "execution_count": 8,
   "metadata": {},
   "outputs": [
    {
     "name": "stdout",
     "output_type": "stream",
     "text": [
      "      ConfirmedCases Fatalities\n",
      "12126           3207    150.003\n",
      "12127           3477    156.997\n",
      "12128           4030    188.002\n",
      "12129           4465    197.998\n",
      "12130           4923    205.003\n",
      "12131           5432    224.997\n",
      "12132           5608    234.002\n",
      "12133           6389    270.999\n",
      "12134           6846    291.001\n",
      "12135           7247    314.998\n",
      "12136           7825    336.002\n",
      "12137           8311        381\n",
      "12138           8692    399.999\n",
      "12139           8692    399.999\n",
      "12140           8692    399.999\n",
      "12141           8692    399.999\n",
      "12142           8692    399.999\n",
      "12143           8692    399.999\n",
      "12144           8692    399.999\n",
      "12145           8692    399.999\n",
      "12146           8692    399.999\n",
      "12147           8692    399.999\n",
      "12148           8692    399.999\n",
      "12149           8692    399.999\n",
      "12150           8692    399.999\n",
      "12151           8692    399.999\n",
      "12152           8692    399.999\n",
      "12153           8692    399.999\n",
      "12154           8692    399.999\n",
      "12155           8692    399.999\n",
      "12156           8692    399.999\n",
      "12157           8692    399.999\n",
      "12158           8692    399.999\n",
      "12159           8692    399.999\n",
      "12160           8692    399.999\n",
      "12161           8692    399.999\n",
      "12162           8692    399.999\n",
      "12163           8692    399.999\n",
      "12164           8692    399.999\n",
      "12165           8692    399.999\n",
      "12166           8692    399.999\n",
      "12167           8692    399.999\n",
      "12168           8692    399.999\n"
     ]
    }
   ],
   "source": [
    "name = ('Washington', 'US') \n",
    "filt = (data.test['Province_State']==name[0]) & (data.test['Country_Region']==name[1])\n",
    "print(data.test.loc[filt,['ConfirmedCases','Fatalities']])"
   ]
  },
  {
   "cell_type": "code",
   "execution_count": null,
   "metadata": {},
   "outputs": [],
   "source": []
  }
 ],
 "metadata": {
  "kernelspec": {
   "display_name": "Python 3",
   "language": "python",
   "name": "python3"
  },
  "language_info": {
   "codemirror_mode": {
    "name": "ipython",
    "version": 3
   },
   "file_extension": ".py",
   "mimetype": "text/x-python",
   "name": "python",
   "nbconvert_exporter": "python",
   "pygments_lexer": "ipython3",
   "version": "3.6.9"
  }
 },
 "nbformat": 4,
 "nbformat_minor": 4
}
