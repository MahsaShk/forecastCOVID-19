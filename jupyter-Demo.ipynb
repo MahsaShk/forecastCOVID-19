{
 "cells": [
  {
   "cell_type": "code",
   "execution_count": 51,
   "metadata": {},
   "outputs": [],
   "source": [
    "from inputData import Data \n",
    "from forecaster import forecaster\n",
    "import pandas as pd"
   ]
  },
  {
   "cell_type": "markdown",
   "metadata": {},
   "source": [
    "## Reading training and test files into Data class"
   ]
  },
  {
   "cell_type": "code",
   "execution_count": 52,
   "metadata": {},
   "outputs": [],
   "source": [
    "# Define input paths\n",
    "trainpath = 'covid19-global-forecasting-week-3/train.csv'\n",
    "testpath = 'covid19-global-forecasting-week-3/test.csv'"
   ]
  },
  {
   "cell_type": "code",
   "execution_count": 53,
   "metadata": {},
   "outputs": [
    {
     "name": "stdout",
     "output_type": "stream",
     "text": [
      "---Loading CSV files finished.\n"
     ]
    }
   ],
   "source": [
    "# Read data\n",
    "data = Data()\n",
    "data.read_data(trainpath, testpath)"
   ]
  },
  {
   "cell_type": "markdown",
   "metadata": {},
   "source": [
    "## Run profile reporting on training and test sets\n",
    "\n",
    "\n"
   ]
  },
  {
   "cell_type": "code",
   "execution_count": 54,
   "metadata": {
    "scrolled": true
   },
   "outputs": [
    {
     "data": {
      "application/vnd.jupyter.widget-view+json": {
       "model_id": "7a79cf8ce34a4622a3372b6b0560ad54",
       "version_major": 2,
       "version_minor": 0
      },
      "text/plain": [
       "HBox(children=(FloatProgress(value=0.0, description='Summarize dataset', max=20.0, style=ProgressStyle(descrip…"
      ]
     },
     "metadata": {},
     "output_type": "display_data"
    },
    {
     "name": "stdout",
     "output_type": "stream",
     "text": [
      "\n"
     ]
    },
    {
     "data": {
      "application/vnd.jupyter.widget-view+json": {
       "model_id": "d2b30a46a001472bb1ff22ebf68d8100",
       "version_major": 2,
       "version_minor": 0
      },
      "text/plain": [
       "HBox(children=(FloatProgress(value=0.0, description='Generate report structure', max=1.0, style=ProgressStyle(…"
      ]
     },
     "metadata": {},
     "output_type": "display_data"
    },
    {
     "name": "stdout",
     "output_type": "stream",
     "text": [
      "\n"
     ]
    },
    {
     "data": {
      "application/vnd.jupyter.widget-view+json": {
       "model_id": "20bd37aae8344a05ada9922176151cd6",
       "version_major": 2,
       "version_minor": 0
      },
      "text/plain": [
       "HBox(children=(FloatProgress(value=0.0, description='Render HTML', max=1.0, style=ProgressStyle(description_wi…"
      ]
     },
     "metadata": {},
     "output_type": "display_data"
    },
    {
     "name": "stdout",
     "output_type": "stream",
     "text": [
      "\n"
     ]
    },
    {
     "data": {
      "application/vnd.jupyter.widget-view+json": {
       "model_id": "3aeb06bf80094f89ae729729b8ffc7f3",
       "version_major": 2,
       "version_minor": 0
      },
      "text/plain": [
       "HBox(children=(FloatProgress(value=0.0, description='Export report to file', max=1.0, style=ProgressStyle(desc…"
      ]
     },
     "metadata": {},
     "output_type": "display_data"
    },
    {
     "name": "stdout",
     "output_type": "stream",
     "text": [
      "\n"
     ]
    },
    {
     "data": {
      "application/vnd.jupyter.widget-view+json": {
       "model_id": "0a4dc049c7e440d98f17fbf2de1c2ef5",
       "version_major": 2,
       "version_minor": 0
      },
      "text/plain": [
       "HBox(children=(FloatProgress(value=0.0, description='Summarize dataset', max=18.0, style=ProgressStyle(descrip…"
      ]
     },
     "metadata": {},
     "output_type": "display_data"
    },
    {
     "name": "stdout",
     "output_type": "stream",
     "text": [
      "\n"
     ]
    },
    {
     "data": {
      "application/vnd.jupyter.widget-view+json": {
       "model_id": "6ce6fa5074a44f168c3d70b4549649f0",
       "version_major": 2,
       "version_minor": 0
      },
      "text/plain": [
       "HBox(children=(FloatProgress(value=0.0, description='Generate report structure', max=1.0, style=ProgressStyle(…"
      ]
     },
     "metadata": {},
     "output_type": "display_data"
    },
    {
     "name": "stdout",
     "output_type": "stream",
     "text": [
      "\n"
     ]
    },
    {
     "data": {
      "application/vnd.jupyter.widget-view+json": {
       "model_id": "e9b4de78b73347edaff2353fa0d5fbf9",
       "version_major": 2,
       "version_minor": 0
      },
      "text/plain": [
       "HBox(children=(FloatProgress(value=0.0, description='Render HTML', max=1.0, style=ProgressStyle(description_wi…"
      ]
     },
     "metadata": {},
     "output_type": "display_data"
    },
    {
     "name": "stdout",
     "output_type": "stream",
     "text": [
      "\n"
     ]
    },
    {
     "data": {
      "application/vnd.jupyter.widget-view+json": {
       "model_id": "6458528c9ea34d19a1415ba3673981f8",
       "version_major": 2,
       "version_minor": 0
      },
      "text/plain": [
       "HBox(children=(FloatProgress(value=0.0, description='Export report to file', max=1.0, style=ProgressStyle(desc…"
      ]
     },
     "metadata": {},
     "output_type": "display_data"
    },
    {
     "name": "stdout",
     "output_type": "stream",
     "text": [
      "\n",
      "---Profiling train and test set finished.\n"
     ]
    }
   ],
   "source": [
    " \n",
    "data.profileReport()"
   ]
  },
  {
   "cell_type": "code",
   "execution_count": 55,
   "metadata": {},
   "outputs": [
    {
     "data": {
      "text/html": [
       "\n",
       "\n",
       "<iframe src=\"./train_profileReport.html\" width=\"900\" height=\"500\" allowfullscreen ></iframe>\n"
      ],
      "text/plain": [
       "<IPython.core.display.HTML object>"
      ]
     },
     "metadata": {},
     "output_type": "display_data"
    }
   ],
   "source": [
    "%%html\n",
    "\n",
    "\n",
    "<iframe src=\"./train_profileReport.html\" width=\"900\" height=\"500\" allowfullscreen ></iframe>"
   ]
  },
  {
   "cell_type": "markdown",
   "metadata": {},
   "source": [
    "## Apply preprocessing\n",
    "Preprocessing includes handling missing values, convert Date column variable, ..."
   ]
  },
  {
   "cell_type": "code",
   "execution_count": 56,
   "metadata": {},
   "outputs": [
    {
     "name": "stdout",
     "output_type": "stream",
     "text": [
      "---Preprocessing on train and test set finished.\n"
     ]
    }
   ],
   "source": [
    "data.preprocess()"
   ]
  },
  {
   "cell_type": "markdown",
   "metadata": {},
   "source": [
    "## Prediction initialization\n",
    "Includes creating a forcaster and then selecting a prediction strategy from predictor class. Inaddition, setting hyperparameters can be done here."
   ]
  },
  {
   "cell_type": "code",
   "execution_count": 57,
   "metadata": {},
   "outputs": [],
   "source": [
    "f = forecaster(data)\n",
    "f.predName = 'xgb'"
   ]
  },
  {
   "cell_type": "markdown",
   "metadata": {},
   "source": [
    "## Run prediction on each province-country geographical location"
   ]
  },
  {
   "cell_type": "code",
   "execution_count": 58,
   "metadata": {},
   "outputs": [
    {
     "name": "stdout",
     "output_type": "stream",
     "text": [
      "---Processing  ('Alabama', 'US')\n",
      "---Processing  ('Alaska', 'US')\n",
      "---Processing  ('Alberta', 'Canada')\n",
      "---Processing  ('Anguilla', 'United Kingdom')\n",
      "---Processing  ('Anhui', 'China')\n",
      "---Processing  ('Arizona', 'US')\n",
      "---Processing  ('Arkansas', 'US')\n",
      "---Processing  ('Aruba', 'Netherlands')\n",
      "---Processing  ('Australian Capital Territory', 'Australia')\n",
      "---Processing  ('Beijing', 'China')\n",
      "---Processing  ('Bermuda', 'United Kingdom')\n",
      "---Processing  ('British Columbia', 'Canada')\n",
      "---Processing  ('British Virgin Islands', 'United Kingdom')\n",
      "---Processing  ('California', 'US')\n",
      "---Processing  ('Cayman Islands', 'United Kingdom')\n",
      "---Processing  ('Channel Islands', 'United Kingdom')\n",
      "---Processing  ('Chongqing', 'China')\n",
      "---Processing  ('Colorado', 'US')\n",
      "---Processing  ('Connecticut', 'US')\n",
      "---Processing  ('Curacao', 'Netherlands')\n",
      "---Processing  ('Delaware', 'US')\n",
      "---Processing  ('District of Columbia', 'US')\n",
      "---Processing  ('Empty', 'Afghanistan')\n",
      "---predicting Confirmed Cases done\n",
      "---predicting Fatalities done\n",
      "---Processing  ('Empty', 'Albania')\n",
      "---Processing  ('Empty', 'Algeria')\n",
      "---Processing  ('Empty', 'Andorra')\n",
      "---Processing  ('Empty', 'Angola')\n",
      "---Processing  ('Empty', 'Antigua and Barbuda')\n",
      "---Processing  ('Empty', 'Argentina')\n",
      "---Processing  ('Empty', 'Armenia')\n",
      "---Processing  ('Empty', 'Austria')\n",
      "---Processing  ('Empty', 'Azerbaijan')\n",
      "---Processing  ('Empty', 'Bahamas')\n",
      "---Processing  ('Empty', 'Bahrain')\n",
      "---Processing  ('Empty', 'Bangladesh')\n",
      "---Processing  ('Empty', 'Barbados')\n",
      "---Processing  ('Empty', 'Belarus')\n",
      "---Processing  ('Empty', 'Belgium')\n",
      "---Processing  ('Empty', 'Belize')\n",
      "---Processing  ('Empty', 'Benin')\n",
      "---Processing  ('Empty', 'Bhutan')\n",
      "---Processing  ('Empty', 'Bolivia')\n",
      "---Processing  ('Empty', 'Bosnia and Herzegovina')\n",
      "---Processing  ('Empty', 'Botswana')\n",
      "---Processing  ('Empty', 'Brazil')\n",
      "---Processing  ('Empty', 'Brunei')\n",
      "---Processing  ('Empty', 'Bulgaria')\n",
      "---Processing  ('Empty', 'Burkina Faso')\n",
      "---Processing  ('Empty', 'Burma')\n",
      "---Processing  ('Empty', 'Burundi')\n",
      "---Processing  ('Empty', 'Cabo Verde')\n",
      "---Processing  ('Empty', 'Cambodia')\n",
      "---Processing  ('Empty', 'Cameroon')\n",
      "---Processing  ('Empty', 'Central African Republic')\n",
      "---Processing  ('Empty', 'Chad')\n",
      "---Processing  ('Empty', 'Chile')\n",
      "---Processing  ('Empty', 'Colombia')\n",
      "---Processing  ('Empty', 'Congo (Brazzaville)')\n",
      "---Processing  ('Empty', 'Congo (Kinshasa)')\n",
      "---Processing  ('Empty', 'Costa Rica')\n",
      "---Processing  ('Empty', \"Cote d'Ivoire\")\n",
      "---Processing  ('Empty', 'Croatia')\n",
      "---Processing  ('Empty', 'Cuba')\n",
      "---Processing  ('Empty', 'Cyprus')\n",
      "---Processing  ('Empty', 'Czechia')\n",
      "---Processing  ('Empty', 'Denmark')\n",
      "---Processing  ('Empty', 'Diamond Princess')\n",
      "---Processing  ('Empty', 'Djibouti')\n",
      "---Processing  ('Empty', 'Dominica')\n",
      "---Processing  ('Empty', 'Dominican Republic')\n",
      "---Processing  ('Empty', 'Ecuador')\n",
      "---Processing  ('Empty', 'Egypt')\n",
      "---Processing  ('Empty', 'El Salvador')\n",
      "---Processing  ('Empty', 'Equatorial Guinea')\n",
      "---Processing  ('Empty', 'Eritrea')\n",
      "---Processing  ('Empty', 'Estonia')\n",
      "---Processing  ('Empty', 'Eswatini')\n",
      "---Processing  ('Empty', 'Ethiopia')\n",
      "---Processing  ('Empty', 'Fiji')\n",
      "---Processing  ('Empty', 'Finland')\n",
      "---Processing  ('Empty', 'France')\n",
      "---Processing  ('Empty', 'Gabon')\n",
      "---Processing  ('Empty', 'Gambia')\n",
      "---Processing  ('Empty', 'Georgia')\n",
      "---Processing  ('Empty', 'Germany')\n",
      "---Processing  ('Empty', 'Ghana')\n",
      "---Processing  ('Empty', 'Greece')\n",
      "---Processing  ('Empty', 'Grenada')\n",
      "---Processing  ('Empty', 'Guatemala')\n",
      "---Processing  ('Empty', 'Guinea')\n",
      "---Processing  ('Empty', 'Guinea-Bissau')\n",
      "---Processing  ('Empty', 'Guyana')\n",
      "---Processing  ('Empty', 'Haiti')\n",
      "---Processing  ('Empty', 'Holy See')\n",
      "---Processing  ('Empty', 'Honduras')\n",
      "---Processing  ('Empty', 'Hungary')\n",
      "---Processing  ('Empty', 'Iceland')\n",
      "---Processing  ('Empty', 'India')\n",
      "---Processing  ('Empty', 'Indonesia')\n",
      "---Processing  ('Empty', 'Iran')\n",
      "---Processing  ('Empty', 'Iraq')\n",
      "---Processing  ('Empty', 'Ireland')\n",
      "---Processing  ('Empty', 'Israel')\n",
      "---Processing  ('Empty', 'Italy')\n",
      "---Processing  ('Empty', 'Jamaica')\n",
      "---Processing  ('Empty', 'Japan')\n",
      "---Processing  ('Empty', 'Jordan')\n",
      "---Processing  ('Empty', 'Kazakhstan')\n",
      "---Processing  ('Empty', 'Kenya')\n",
      "---Processing  ('Empty', 'Korea, South')\n",
      "---Processing  ('Empty', 'Kosovo')\n",
      "---Processing  ('Empty', 'Kuwait')\n",
      "---Processing  ('Empty', 'Kyrgyzstan')\n",
      "---Processing  ('Empty', 'Laos')\n",
      "---Processing  ('Empty', 'Latvia')\n",
      "---Processing  ('Empty', 'Lebanon')\n",
      "---Processing  ('Empty', 'Liberia')\n",
      "---Processing  ('Empty', 'Libya')\n",
      "---Processing  ('Empty', 'Liechtenstein')\n",
      "---Processing  ('Empty', 'Lithuania')\n",
      "---Processing  ('Empty', 'Luxembourg')\n",
      "---Processing  ('Empty', 'MS Zaandam')\n",
      "---Processing  ('Empty', 'Madagascar')\n",
      "---Processing  ('Empty', 'Malaysia')\n",
      "---Processing  ('Empty', 'Maldives')\n",
      "---Processing  ('Empty', 'Mali')\n",
      "---Processing  ('Empty', 'Malta')\n",
      "---Processing  ('Empty', 'Mauritania')\n",
      "---Processing  ('Empty', 'Mauritius')\n",
      "---Processing  ('Empty', 'Mexico')\n",
      "---Processing  ('Empty', 'Moldova')\n",
      "---Processing  ('Empty', 'Monaco')\n",
      "---Processing  ('Empty', 'Mongolia')\n",
      "---Processing  ('Empty', 'Montenegro')\n",
      "---Processing  ('Empty', 'Morocco')\n",
      "---Processing  ('Empty', 'Mozambique')\n",
      "---Processing  ('Empty', 'Namibia')\n",
      "---Processing  ('Empty', 'Nepal')\n",
      "---Processing  ('Empty', 'Netherlands')\n",
      "---Processing  ('Empty', 'New Zealand')\n",
      "---Processing  ('Empty', 'Nicaragua')\n",
      "---Processing  ('Empty', 'Niger')\n",
      "---Processing  ('Empty', 'Nigeria')\n",
      "---Processing  ('Empty', 'North Macedonia')\n",
      "---Processing  ('Empty', 'Norway')\n",
      "---Processing  ('Empty', 'Oman')\n",
      "---Processing  ('Empty', 'Pakistan')\n",
      "---Processing  ('Empty', 'Panama')\n",
      "---Processing  ('Empty', 'Papua New Guinea')\n",
      "---Processing  ('Empty', 'Paraguay')\n",
      "---Processing  ('Empty', 'Peru')\n",
      "---Processing  ('Empty', 'Philippines')\n",
      "---Processing  ('Empty', 'Poland')\n",
      "---Processing  ('Empty', 'Portugal')\n",
      "---Processing  ('Empty', 'Qatar')\n",
      "---Processing  ('Empty', 'Romania')\n",
      "---Processing  ('Empty', 'Russia')\n",
      "---Processing  ('Empty', 'Rwanda')\n",
      "---Processing  ('Empty', 'Saint Kitts and Nevis')\n",
      "---Processing  ('Empty', 'Saint Lucia')\n",
      "---Processing  ('Empty', 'Saint Vincent and the Grenadines')\n",
      "---Processing  ('Empty', 'San Marino')\n",
      "---Processing  ('Empty', 'Saudi Arabia')\n",
      "---Processing  ('Empty', 'Senegal')\n",
      "---Processing  ('Empty', 'Serbia')\n",
      "---Processing  ('Empty', 'Seychelles')\n",
      "---Processing  ('Empty', 'Sierra Leone')\n",
      "---Processing  ('Empty', 'Singapore')\n",
      "---Processing  ('Empty', 'Slovakia')\n",
      "---Processing  ('Empty', 'Slovenia')\n",
      "---Processing  ('Empty', 'Somalia')\n",
      "---Processing  ('Empty', 'South Africa')\n",
      "---Processing  ('Empty', 'Spain')\n",
      "---Processing  ('Empty', 'Sri Lanka')\n",
      "---Processing  ('Empty', 'Sudan')\n",
      "---Processing  ('Empty', 'Suriname')\n",
      "---Processing  ('Empty', 'Sweden')\n",
      "---Processing  ('Empty', 'Switzerland')\n",
      "---Processing  ('Empty', 'Syria')\n",
      "---Processing  ('Empty', 'Taiwan*')\n",
      "---Processing  ('Empty', 'Tanzania')\n",
      "---Processing  ('Empty', 'Thailand')\n",
      "---Processing  ('Empty', 'Timor-Leste')\n",
      "---Processing  ('Empty', 'Togo')\n",
      "---Processing  ('Empty', 'Trinidad and Tobago')\n",
      "---Processing  ('Empty', 'Tunisia')\n",
      "---Processing  ('Empty', 'Turkey')\n",
      "---Processing  ('Empty', 'Uganda')\n",
      "---Processing  ('Empty', 'Ukraine')\n",
      "---Processing  ('Empty', 'United Arab Emirates')\n",
      "---Processing  ('Empty', 'United Kingdom')\n",
      "---Processing  ('Empty', 'Uruguay')\n",
      "---Processing  ('Empty', 'Uzbekistan')\n",
      "---Processing  ('Empty', 'Venezuela')\n",
      "---Processing  ('Empty', 'Vietnam')\n",
      "---Processing  ('Empty', 'West Bank and Gaza')\n",
      "---Processing  ('Empty', 'Zambia')\n",
      "---Processing  ('Empty', 'Zimbabwe')\n",
      "---Processing  ('Faroe Islands', 'Denmark')\n",
      "---Processing  ('Florida', 'US')\n",
      "---Processing  ('French Guiana', 'France')\n",
      "---Processing  ('French Polynesia', 'France')\n",
      "---Processing  ('Fujian', 'China')\n",
      "---Processing  ('Gansu', 'China')\n",
      "---Processing  ('Georgia', 'US')\n",
      "---Processing  ('Gibraltar', 'United Kingdom')\n",
      "---Processing  ('Greenland', 'Denmark')\n",
      "---Processing  ('Guadeloupe', 'France')\n",
      "---Processing  ('Guam', 'US')\n",
      "---Processing  ('Guangdong', 'China')\n",
      "---Processing  ('Guangxi', 'China')\n",
      "---Processing  ('Guizhou', 'China')\n",
      "---Processing  ('Hainan', 'China')\n",
      "---Processing  ('Hawaii', 'US')\n",
      "---Processing  ('Hebei', 'China')\n",
      "---Processing  ('Heilongjiang', 'China')\n",
      "---Processing  ('Henan', 'China')\n",
      "---Processing  ('Hong Kong', 'China')\n",
      "---Processing  ('Hubei', 'China')\n",
      "---Processing  ('Hunan', 'China')\n",
      "---Processing  ('Idaho', 'US')\n",
      "---Processing  ('Illinois', 'US')\n",
      "---Processing  ('Indiana', 'US')\n",
      "---Processing  ('Inner Mongolia', 'China')\n",
      "---Processing  ('Iowa', 'US')\n",
      "---Processing  ('Isle of Man', 'United Kingdom')\n",
      "---Processing  ('Jiangsu', 'China')\n",
      "---Processing  ('Jiangxi', 'China')\n",
      "---Processing  ('Jilin', 'China')\n",
      "---Processing  ('Kansas', 'US')\n",
      "---Processing  ('Kentucky', 'US')\n",
      "---Processing  ('Liaoning', 'China')\n",
      "---Processing  ('Louisiana', 'US')\n",
      "---Processing  ('Macau', 'China')\n",
      "---Processing  ('Maine', 'US')\n",
      "---Processing  ('Manitoba', 'Canada')\n",
      "---Processing  ('Martinique', 'France')\n",
      "---Processing  ('Maryland', 'US')\n",
      "---Processing  ('Massachusetts', 'US')\n",
      "---Processing  ('Mayotte', 'France')\n",
      "---Processing  ('Michigan', 'US')\n",
      "---Processing  ('Minnesota', 'US')\n",
      "---Processing  ('Mississippi', 'US')\n",
      "---Processing  ('Missouri', 'US')\n",
      "---Processing  ('Montana', 'US')\n",
      "---Processing  ('Montserrat', 'United Kingdom')\n",
      "---Processing  ('Nebraska', 'US')\n",
      "---Processing  ('Nevada', 'US')\n",
      "---Processing  ('New Brunswick', 'Canada')\n",
      "---Processing  ('New Caledonia', 'France')\n",
      "---Processing  ('New Hampshire', 'US')\n",
      "---Processing  ('New Jersey', 'US')\n",
      "---Processing  ('New Mexico', 'US')\n",
      "---Processing  ('New South Wales', 'Australia')\n",
      "---Processing  ('New York', 'US')\n",
      "---Processing  ('Newfoundland and Labrador', 'Canada')\n",
      "---Processing  ('Ningxia', 'China')\n",
      "---Processing  ('North Carolina', 'US')\n",
      "---Processing  ('North Dakota', 'US')\n",
      "---Processing  ('Northern Territory', 'Australia')\n",
      "---Processing  ('Northwest Territories', 'Canada')\n"
     ]
    },
    {
     "name": "stdout",
     "output_type": "stream",
     "text": [
      "---Processing  ('Nova Scotia', 'Canada')\n",
      "---Processing  ('Ohio', 'US')\n",
      "---Processing  ('Oklahoma', 'US')\n",
      "---Processing  ('Ontario', 'Canada')\n",
      "---Processing  ('Oregon', 'US')\n",
      "---Processing  ('Pennsylvania', 'US')\n",
      "---Processing  ('Prince Edward Island', 'Canada')\n",
      "---Processing  ('Puerto Rico', 'US')\n",
      "---Processing  ('Qinghai', 'China')\n",
      "---Processing  ('Quebec', 'Canada')\n",
      "---predicting Confirmed Cases done\n",
      "---predicting Fatalities done\n",
      "---Processing  ('Queensland', 'Australia')\n",
      "---Processing  ('Reunion', 'France')\n",
      "---Processing  ('Rhode Island', 'US')\n",
      "---Processing  ('Saint Barthelemy', 'France')\n",
      "---Processing  ('Saskatchewan', 'Canada')\n",
      "---Processing  ('Shaanxi', 'China')\n",
      "---Processing  ('Shandong', 'China')\n",
      "---Processing  ('Shanghai', 'China')\n",
      "---Processing  ('Shanxi', 'China')\n",
      "---Processing  ('Sichuan', 'China')\n",
      "---Processing  ('Sint Maarten', 'Netherlands')\n",
      "---Processing  ('South Australia', 'Australia')\n",
      "---Processing  ('South Carolina', 'US')\n",
      "---Processing  ('South Dakota', 'US')\n",
      "---Processing  ('St Martin', 'France')\n",
      "---Processing  ('Tasmania', 'Australia')\n",
      "---Processing  ('Tennessee', 'US')\n",
      "---Processing  ('Texas', 'US')\n",
      "---Processing  ('Tianjin', 'China')\n",
      "---Processing  ('Tibet', 'China')\n",
      "---Processing  ('Turks and Caicos Islands', 'United Kingdom')\n",
      "---Processing  ('Utah', 'US')\n",
      "---Processing  ('Vermont', 'US')\n",
      "---Processing  ('Victoria', 'Australia')\n",
      "---Processing  ('Virgin Islands', 'US')\n",
      "---Processing  ('Virginia', 'US')\n",
      "---Processing  ('Washington', 'US')\n",
      "---predicting Confirmed Cases done\n",
      "---predicting Fatalities done\n",
      "---Processing  ('West Virginia', 'US')\n",
      "---Processing  ('Western Australia', 'Australia')\n",
      "---Processing  ('Wisconsin', 'US')\n",
      "---Processing  ('Wyoming', 'US')\n",
      "---Processing  ('Xinjiang', 'China')\n",
      "---Processing  ('Yukon', 'Canada')\n",
      "---Processing  ('Yunnan', 'China')\n",
      "---Processing  ('Zhejiang', 'China')\n"
     ]
    }
   ],
   "source": [
    "f.forecast()"
   ]
  },
  {
   "cell_type": "markdown",
   "metadata": {},
   "source": [
    "## Example output for 'Washington'-'US' geographical location:"
   ]
  },
  {
   "cell_type": "code",
   "execution_count": 59,
   "metadata": {},
   "outputs": [
    {
     "name": "stdout",
     "output_type": "stream",
     "text": [
      "      ConfirmedCases Fatalities\n",
      "12126           3207    150.003\n",
      "12127           3477    156.997\n",
      "12128           4030    188.002\n",
      "12129           4465    197.998\n",
      "12130           4923    205.003\n",
      "12131           5432    224.997\n",
      "12132           5608    234.002\n",
      "12133           6389    270.999\n",
      "12134           6846    291.001\n",
      "12135           7247    314.998\n",
      "12136           7825    336.002\n",
      "12137           8311        381\n",
      "12138           8692    399.999\n",
      "12139           8692    399.999\n",
      "12140           8692    399.999\n",
      "12141           8692    399.999\n",
      "12142           8692    399.999\n",
      "12143           8692    399.999\n",
      "12144           8692    399.999\n",
      "12145           8692    399.999\n",
      "12146           8692    399.999\n",
      "12147           8692    399.999\n",
      "12148           8692    399.999\n",
      "12149           8692    399.999\n",
      "12150           8692    399.999\n",
      "12151           8692    399.999\n",
      "12152           8692    399.999\n",
      "12153           8692    399.999\n",
      "12154           8692    399.999\n",
      "12155           8692    399.999\n",
      "12156           8692    399.999\n",
      "12157           8692    399.999\n",
      "12158           8692    399.999\n",
      "12159           8692    399.999\n",
      "12160           8692    399.999\n",
      "12161           8692    399.999\n",
      "12162           8692    399.999\n",
      "12163           8692    399.999\n",
      "12164           8692    399.999\n",
      "12165           8692    399.999\n",
      "12166           8692    399.999\n",
      "12167           8692    399.999\n",
      "12168           8692    399.999\n"
     ]
    }
   ],
   "source": [
    "name = ('Washington', 'US') \n",
    "filt = (data.test['Province_State']==name[0]) & (data.test['Country_Region']==name[1])\n",
    "print(data.test.loc[filt,['ConfirmedCases','Fatalities']])"
   ]
  },
  {
   "cell_type": "code",
   "execution_count": null,
   "metadata": {},
   "outputs": [],
   "source": []
  }
 ],
 "metadata": {
  "kernelspec": {
   "display_name": "Python 3",
   "language": "python",
   "name": "python3"
  },
  "language_info": {
   "codemirror_mode": {
    "name": "ipython",
    "version": 3
   },
   "file_extension": ".py",
   "mimetype": "text/x-python",
   "name": "python",
   "nbconvert_exporter": "python",
   "pygments_lexer": "ipython3",
   "version": "3.6.9"
  }
 },
 "nbformat": 4,
 "nbformat_minor": 4
}
